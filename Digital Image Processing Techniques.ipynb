{
 "cells": [
  {
   "cell_type": "code",
   "execution_count": 9,
   "id": "4f5ff3b7-ca9e-48cf-8a19-a8939c63e495",
   "metadata": {},
   "outputs": [
    {
     "ename": "error",
     "evalue": "OpenCV(4.10.0) C:\\b\\abs_daut97tdpo\\croot\\opencv-suite_1722029138522\\work\\modules\\imgproc\\src\\color.cpp:196: error: (-215:Assertion failed) !_src.empty() in function 'cv::cvtColor'\n",
     "output_type": "error",
     "traceback": [
      "\u001b[1;31m---------------------------------------------------------------------------\u001b[0m",
      "\u001b[1;31merror\u001b[0m                                     Traceback (most recent call last)",
      "Cell \u001b[1;32mIn[9], line 7\u001b[0m\n\u001b[0;32m      4\u001b[0m get_ipython()\u001b[38;5;241m.\u001b[39mrun_line_magic(\u001b[38;5;124m'\u001b[39m\u001b[38;5;124mmatplotlib\u001b[39m\u001b[38;5;124m'\u001b[39m, \u001b[38;5;124m'\u001b[39m\u001b[38;5;124minline\u001b[39m\u001b[38;5;124m'\u001b[39m)\n\u001b[0;32m      6\u001b[0m image \u001b[38;5;241m=\u001b[39m cv2\u001b[38;5;241m.\u001b[39mimread(\u001b[38;5;124m'\u001b[39m\u001b[38;5;124m07.jpg\u001b[39m\u001b[38;5;124m'\u001b[39m)\n\u001b[1;32m----> 7\u001b[0m image \u001b[38;5;241m=\u001b[39m \u001b[43mcv2\u001b[49m\u001b[38;5;241;43m.\u001b[39;49m\u001b[43mcvtColor\u001b[49m\u001b[43m(\u001b[49m\u001b[43mimage\u001b[49m\u001b[43m,\u001b[49m\u001b[43m \u001b[49m\u001b[43mcv2\u001b[49m\u001b[38;5;241;43m.\u001b[39;49m\u001b[43mCOLOR_BGR2RGB\u001b[49m\u001b[43m)\u001b[49m\n\u001b[0;32m      8\u001b[0m rows, cols \u001b[38;5;241m=\u001b[39m image\u001b[38;5;241m.\u001b[39mshape[:\u001b[38;5;241m2\u001b[39m]\n\u001b[0;32m      9\u001b[0m kernel_height, kernel_width \u001b[38;5;241m=\u001b[39m rows, cols\n",
      "\u001b[1;31merror\u001b[0m: OpenCV(4.10.0) C:\\b\\abs_daut97tdpo\\croot\\opencv-suite_1722029138522\\work\\modules\\imgproc\\src\\color.cpp:196: error: (-215:Assertion failed) !_src.empty() in function 'cv::cvtColor'\n"
     ]
    }
   ],
   "source": [
    "import cv2\n",
    "import numpy as np\n",
    "import matplotlib.pyplot as plt\n",
    "%matplotlib inline\n",
    "\n",
    "image = cv2.imread('07.jpg')\n",
    "image = cv2.cvtColor(image, cv2.COLOR_BGR2RGB)\n",
    "rows, cols = image.shape[:2]\n",
    "kernel_height, kernel_width = rows, cols\n",
    "image = cv2.resize(image, (kernel_width, kernel_height), interpolation=cv2.INTER_AREA)\n",
    "\n",
    "if image is None:\n",
    "    print(\"Error: Image not found. Please check the file path.\")\n",
    "    exit()\n",
    "\n",
    "output_median = cv2.medianBlur(image, 1, 5)\n",
    "\n",
    "output_bilateral = cv2.bilateralFilter(output_median, d=5, sigmaColor=6, sigmaSpace=6)\n",
    "\n",
    "output_gaussian_blur = cv2.GaussianBlur(output_bilateral, (7, 7), 2)\n",
    "output_sharpened = cv2.addWeighted(output_bilateral, 1.5, output_gaussian_blur, -0.5, 0)\n",
    "\n",
    "processed_image = plt.imshow(output_sharpened)\n",
    "\n",
    "plt.axis('off')\n",
    "plt.savefig('final_processed_image.jpg')\n"
   ]
  },
  {
   "cell_type": "code",
   "execution_count": null,
   "id": "c841e058-32d5-43d1-b75e-870d60bf235b",
   "metadata": {},
   "outputs": [],
   "source": []
  }
 ],
 "metadata": {
  "kernelspec": {
   "display_name": "Python 3 (ipykernel)",
   "language": "python",
   "name": "python3"
  },
  "language_info": {
   "codemirror_mode": {
    "name": "ipython",
    "version": 3
   },
   "file_extension": ".py",
   "mimetype": "text/x-python",
   "name": "python",
   "nbconvert_exporter": "python",
   "pygments_lexer": "ipython3",
   "version": "3.12.7"
  }
 },
 "nbformat": 4,
 "nbformat_minor": 5
}
