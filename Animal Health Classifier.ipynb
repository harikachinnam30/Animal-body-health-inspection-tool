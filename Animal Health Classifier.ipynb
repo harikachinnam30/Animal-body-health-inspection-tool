{
 "cells": [
  {
   "cell_type": "code",
   "execution_count": 203,
   "id": "05559748-9328-4885-8c4a-9fc1470879b9",
   "metadata": {},
   "outputs": [],
   "source": [
    "from tensorflow.keras.models import load_model\n",
    "import numpy as np\n",
    "from tensorflow.keras.preprocessing.image import load_img, img_to_array"
   ]
  },
  {
   "cell_type": "code",
   "execution_count": 205,
   "id": "4a32fce2-f771-4f5b-b698-0e4c0b72e123",
   "metadata": {},
   "outputs": [],
   "source": [
    "import warnings\n",
    "warnings.filterwarnings('ignore')"
   ]
  },
  {
   "cell_type": "code",
   "execution_count": 207,
   "id": "0ee5bc44-d349-47c3-8f08-b3fa1f1fe9d7",
   "metadata": {},
   "outputs": [],
   "source": [
    "model = load_model('dog_health_model.keras')"
   ]
  },
  {
   "cell_type": "code",
   "execution_count": 208,
   "id": "ee265f00-1ae7-424d-b502-2ca8576db3a1",
   "metadata": {},
   "outputs": [],
   "source": [
    "model.compile(\n",
    "    optimizer='adam',\n",
    "    loss='binary_crossentropy',\n",
    "    metrics=['accuracy'])"
   ]
  },
  {
   "cell_type": "code",
   "execution_count": 211,
   "id": "7421c038-f3ce-4d02-9877-a2deb3443c1f",
   "metadata": {},
   "outputs": [],
   "source": [
    "img_path = 'final_processed_image_2.jpg'\n",
    "image = load_img(img_path,target_size=(150,150))\n",
    "image_array = img_to_array(image)\n",
    "image_array = np.expand_dims(image_array, axis=0)"
   ]
  },
  {
   "cell_type": "code",
   "execution_count": 213,
   "id": "3d739bc7-bbc9-4952-914d-7c7fe3603617",
   "metadata": {},
   "outputs": [],
   "source": [
    "image_array = image_array/255.0"
   ]
  },
  {
   "cell_type": "code",
   "execution_count": 215,
   "id": "310c6e77-496e-43f8-9c77-56719970a8da",
   "metadata": {},
   "outputs": [
    {
     "name": "stdout",
     "output_type": "stream",
     "text": [
      "\u001b[1m1/1\u001b[0m \u001b[32m━━━━━━━━━━━━━━━━━━━━\u001b[0m\u001b[37m\u001b[0m \u001b[1m0s\u001b[0m 326ms/step\n"
     ]
    }
   ],
   "source": [
    "prediction = model.predict(image_array)"
   ]
  },
  {
   "cell_type": "code",
   "execution_count": 217,
   "id": "551f41be-3fba-48e8-8194-6726e3494e62",
   "metadata": {},
   "outputs": [
    {
     "name": "stdout",
     "output_type": "stream",
     "text": [
      "The dog is healthy.\n"
     ]
    }
   ],
   "source": [
    "if prediction[0][0] >= 0.54:\n",
    "    print('The dog is unhealthy.')\n",
    "else:\n",
    "    print('The dog is healthy.')"
   ]
  },
  {
   "cell_type": "code",
   "execution_count": null,
   "id": "00cac0c4-a0e9-4537-b954-fb84583028c2",
   "metadata": {},
   "outputs": [],
   "source": []
  },
  {
   "cell_type": "code",
   "execution_count": null,
   "id": "c88add04-66dc-414f-abca-d3373e03f8bf",
   "metadata": {},
   "outputs": [],
   "source": []
  }
 ],
 "metadata": {
  "kernelspec": {
   "display_name": "Python 3 (ipykernel)",
   "language": "python",
   "name": "python3"
  },
  "language_info": {
   "codemirror_mode": {
    "name": "ipython",
    "version": 3
   },
   "file_extension": ".py",
   "mimetype": "text/x-python",
   "name": "python",
   "nbconvert_exporter": "python",
   "pygments_lexer": "ipython3",
   "version": "3.12.7"
  }
 },
 "nbformat": 4,
 "nbformat_minor": 5
}
